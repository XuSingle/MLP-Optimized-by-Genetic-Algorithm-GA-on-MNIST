{
 "cells": [
  {
   "cell_type": "markdown",
   "id": "d3e975e0",
   "metadata": {},
   "source": [
    "## Here are some codes about how we combine the different models.\n",
    "\n"
   ]
  },
  {
   "cell_type": "code",
   "execution_count": 1,
   "id": "c329aa73",
   "metadata": {},
   "outputs": [],
   "source": [
    "import torch\n",
    "import torch.nn.functional as F  # 激励函数的库\n",
    "from torchvision import datasets\n",
    "import torchvision.transforms as transforms\n",
    "import numpy as np\n",
    "import pandas as pd\n",
    "import random\n",
    "import math\n",
    "import time\n",
    "from sklearn.decomposition import PCA\n",
    "import matplotlib.pyplot as plt"
   ]
  },
  {
   "cell_type": "code",
   "execution_count": 2,
   "id": "f0fae4a1",
   "metadata": {},
   "outputs": [
    {
     "name": "stderr",
     "output_type": "stream",
     "text": [
      "/Applications/Anaconda/anaconda3/envs/pytorch/lib/python3.8/site-packages/torchvision/datasets/mnist.py:498: UserWarning: The given NumPy array is not writeable, and PyTorch does not support non-writeable tensors. This means you can write to the underlying (supposedly non-writeable) NumPy array using the tensor. You may want to copy the array to protect its data or make it writeable before converting it to a tensor. This type of warning will be suppressed for the rest of this program. (Triggered internally at  /Users/distiller/project/conda/conda-bld/pytorch_1631631227379/work/torch/csrc/utils/tensor_numpy.cpp:180.)\n",
      "  return torch.from_numpy(parsed.astype(m[2], copy=False)).view(*s)\n"
     ]
    }
   ],
   "source": [
    "num_inputs = 784 \n",
    "num_outputs = 10 \n",
    "num_hiddens = 10\n",
    "\n",
    "# 定义全局变量\n",
    "n_epochs = 10   # \n",
    "batch_size = 60000# \n",
    "\n",
    "\n",
    "transform=transforms.Compose([transforms.ToTensor(),\n",
    "                              ])\n",
    " \n",
    "# \n",
    "train_data = datasets.MNIST(root = '/Users/singlexu/Desktop/Artificial Intelligence Concepts/Project 2/DataSet', train = True, download = True, transform = transform)\n",
    "test_data = datasets.MNIST(root = '/Users/singlexu/Desktop/Artificial Intelligence Concepts/Project 2/DataSet', train = False, download = True, transform = transform)\n",
    "# \n",
    "train_loader = torch.utils.data.DataLoader(train_data, batch_size = batch_size, num_workers = 0)\n",
    "test_loader = torch.utils.data.DataLoader(test_data, batch_size = batch_size, num_workers = 0)"
   ]
  },
  {
   "cell_type": "code",
   "execution_count": 5,
   "id": "60076231",
   "metadata": {},
   "outputs": [
    {
     "name": "stdout",
     "output_type": "stream",
     "text": [
      "(60000, 87)\n"
     ]
    }
   ],
   "source": [
    "for x,y in train_loader:\n",
    "    x = x.view(-1, 784)\n",
    "    pca = PCA(0.9)\n",
    "#     pca.fit(x)\n",
    "#     x_train_reduction = pca.transform(x)\n",
    "    x_train_reduction = pca.fit_transform(x)\n",
    "    \n",
    "    print(x_train_reduction.shape)\n"
   ]
  },
  {
   "cell_type": "code",
   "execution_count": 6,
   "id": "50e7c128",
   "metadata": {},
   "outputs": [],
   "source": [
    "for x,y in test_loader:\n",
    "    x = x.view(-1, 784)\n",
    "#     pca = PCA(87)\n",
    "#     pca.fit(x)\n",
    "    x_train_reduction = pca.transform(x)\n",
    "#     print(x_train_reduction.shape)\n",
    "    test_set = torch.tensor(np.array(x_train_reduction, dtype='float32'))\n",
    "    test_target_set = y"
   ]
  },
  {
   "cell_type": "code",
   "execution_count": 7,
   "id": "8e681f0c",
   "metadata": {},
   "outputs": [],
   "source": [
    "def Test(best_weights):\n",
    "#     print('------ Test Start -----')\n",
    "    \n",
    "    Acc1 = []\n",
    "    \n",
    "    W_1, b_1, W_2, b_2 = Chromosome_to_Weights_Bias(best_weights)\n",
    "\n",
    "\n",
    "    prediction1 = NN(test_set, W_1, b_1, W_2, b_2)\n",
    "    error1 = prediction1 - test_target_set\n",
    "\n",
    "    for item in error1:\n",
    "        if item == 0:\n",
    "            Acc1.append(1)\n",
    "\n",
    "    return sum(Acc1)/10000"
   ]
  },
  {
   "cell_type": "code",
   "execution_count": 8,
   "id": "b3357f77",
   "metadata": {},
   "outputs": [],
   "source": [
    "def NN(X, W_1, b_1, W_2, b_2):\n",
    "    \n",
    "    \n",
    "    V1 = torch.mm(X, W_1) + b_1\n",
    "    Y1 = F.relu(V1)\n",
    "    V2 = torch.mm(Y1, W_2) + b_2\n",
    "    Y = torch.argmax(F.softmax(V2, dim=1), dim = 1)\n",
    "    \n",
    "    return Y"
   ]
  },
  {
   "cell_type": "code",
   "execution_count": 9,
   "id": "e194871a",
   "metadata": {},
   "outputs": [],
   "source": [
    "def Chromosome_to_Weights_Bias(chromosome):\n",
    "\n",
    "    W_1 = chromosome[0:8700]\n",
    "#     print('WWW', W_1.reshape(784,30).shape)\n",
    "    W_1 = np.array(W_1, dtype='float32')\n",
    "    W_1 = torch.from_numpy(W_1)\n",
    "    W_1 = W_1.view(87, 100)\n",
    "    \n",
    "    b_1 = chromosome[8700:8800]\n",
    "#     print('WWW', W_1.reshape(784,30).shape)\n",
    "    b_1 = np.array(b_1, dtype='float32')\n",
    "    b_1 = torch.from_numpy(b_1)\n",
    "    b_1 = b_1.view(100)\n",
    "    \n",
    "    W_2 = chromosome[8800:9800]\n",
    "    W_2 = np.array(W_2, dtype='float32')\n",
    "    W_2 = torch.from_numpy(W_2)\n",
    "    W_2 = W_2.view(100, 10)\n",
    "    \n",
    "    b_2 = chromosome[9800:]\n",
    "    b_2 = np.array(b_2, dtype='float32')\n",
    "    b_2 = torch.from_numpy(b_2)\n",
    "    b_2 = b_2.view(10)\n",
    "    \n",
    "    return W_1, b_1, W_2, b_2"
   ]
  },
  {
   "cell_type": "markdown",
   "id": "de1c7829",
   "metadata": {},
   "source": [
    "### Original Model "
   ]
  },
  {
   "cell_type": "code",
   "execution_count": 10,
   "id": "bde55abf",
   "metadata": {},
   "outputs": [],
   "source": [
    "df1 =  pd.read_table(\"./One/00000-10000-8217.txt\", sep='|', header=None)\n",
    "df1 = df1[2]\n",
    "df2 =  pd.read_table(\"./One/10000-20000-8421.txt\", sep='|', header=None)\n",
    "df2 = df2[2]\n",
    "df3 =  pd.read_table(\"./One/20000-30000-8013.txt\", sep='|', header=None)\n",
    "df3 = df3[2]\n",
    "df4 =  pd.read_table(\"./One/30000-40000-8078.txt\", sep='|', header=None)\n",
    "df4 = df4[2]\n",
    "df5 =  pd.read_table(\"./One/40000-50000-8074.txt\", sep='|', header=None)\n",
    "df5 = df5[2]\n",
    "df6 =  pd.read_table(\"./One/50000-60000-7934.txt\", sep='|', header=None)\n",
    "df6 = df6[2]"
   ]
  },
  {
   "cell_type": "code",
   "execution_count": 11,
   "id": "da3aa2e1",
   "metadata": {},
   "outputs": [
    {
     "data": {
      "image/png": "[encoded data removed]",
      "text/plain": [
       "<Figure size 432x288 with 1 Axes>"
      ]
     },
     "metadata": {
      "needs_background": "light"
     },
     "output_type": "display_data"
    }
   ],
   "source": [
    "\n",
    "plt.plot(range(1,501),list(df1), label = 'model1')\n",
    "plt.plot(range(1,501),list(df2), label = 'model2')\n",
    "plt.plot(range(1,501),list(df3), label = 'model3')\n",
    "plt.plot(range(1,501),list(df4), label = 'model4')\n",
    "plt.plot(range(1,501),list(df5), label = 'model5')\n",
    "plt.plot(range(1,501),list(df6), label = 'model6')\n",
    "plt.legend()\n",
    "plt.title('The converge curves of each model')\n",
    "plt.savefig('ModelCombination_curves.png', dpi=600)\n",
    "plt.show()"
   ]
  },
  {
   "cell_type": "code",
   "execution_count": 12,
   "id": "ffaf9b68",
   "metadata": {},
   "outputs": [],
   "source": [
    "w1 = pd.read_csv('./One/00000-10000-8217-one-100.csv')\n",
    "w2 = pd.read_csv('./One/10000-20000-8421-one-100.csv')\n",
    "w3 = pd.read_csv('./One/20000-30000-8013-one-100.csv')\n",
    "w4 = pd.read_csv('./One/30000-40000-8078-one-100.csv')\n",
    "w5 = pd.read_csv('./One/40000-50000-8074-one-100.csv')\n",
    "w6 = pd.read_csv('./One/50000-60000-7934-one-100.csv')"
   ]
  },
  {
   "cell_type": "code",
   "execution_count": 13,
   "id": "298dcae8",
   "metadata": {},
   "outputs": [],
   "source": [
    "w1 = np.array(w1['0'])\n",
    "w2 = np.array(w2['0'])\n",
    "w3 = np.array(w3['0'])\n",
    "w4 = np.array(w4['0'])\n",
    "w5 = np.array(w5['0'])\n",
    "w6 = np.array(w6['0'])"
   ]
  },
  {
   "cell_type": "code",
   "execution_count": 14,
   "id": "bb7851db",
   "metadata": {},
   "outputs": [
    {
     "name": "stdout",
     "output_type": "stream",
     "text": [
      "Model 1 accuracy in train set and test set is 0.8217 and 0.7924\n",
      "Model 2 accuracy in train set and test set is 0.8421 and 0.8222\n",
      "Model 3 accuracy in train set and test set is 0.8013 and 0.774\n",
      "Model 4 accuracy in train set and test set is 0.8078 and 0.7985\n",
      "Model 5 accuracy in train set and test set is 0.8074 and 0.7879\n",
      "Model 6 accuracy in train set and test set is 0.7934 and 0.7527\n"
     ]
    }
   ],
   "source": [
    "print('Model 1 accuracy in train set and test set is %s and %s'%(0.8217,Test(w1)))\n",
    "print('Model 2 accuracy in train set and test set is %s and %s'%(0.8421,Test(w2)))\n",
    "print('Model 3 accuracy in train set and test set is %s and %s'%(0.8013,Test(w3)))\n",
    "print('Model 4 accuracy in train set and test set is %s and %s'%(0.8078,Test(w4)))\n",
    "print('Model 5 accuracy in train set and test set is %s and %s'%(0.8074,Test(w5)))\n",
    "print('Model 6 accuracy in train set and test set is %s and %s'%(0.7934,Test(w6)))"
   ]
  },
  {
   "cell_type": "code",
   "execution_count": 15,
   "id": "4679e47d",
   "metadata": {},
   "outputs": [],
   "source": [
    "def Getresult(best_weights):\n",
    "#     print('------ Test Start -----')\n",
    "    \n",
    "    Acc1 = []\n",
    "    \n",
    "    W_1, b_1, W_2, b_2 = Chromosome_to_Weights_Bias(best_weights)\n",
    "\n",
    "\n",
    "    prediction1 = NN(test_set, W_1, b_1, W_2, b_2)\n",
    "#     error1 = prediction1 - test_target_set\n",
    "\n",
    "    return prediction1"
   ]
  },
  {
   "cell_type": "code",
   "execution_count": 16,
   "id": "7c166eef",
   "metadata": {},
   "outputs": [],
   "source": [
    "m1_p1 = Getresult(w1)\n",
    "m2_p1 = Getresult(w2)\n",
    "m3_p1 = Getresult(w3)\n",
    "m4_p1 = Getresult(w4)\n",
    "m5_p1 = Getresult(w5)\n",
    "m6_p1 = Getresult(w6)"
   ]
  },
  {
   "cell_type": "code",
   "execution_count": 22,
   "id": "25595f73",
   "metadata": {},
   "outputs": [],
   "source": [
    "final_result = []\n",
    "\n",
    "for i in range(len(m1_p1)):\n",
    "    judge = []\n",
    "    judge.append(m2_p1[i].tolist())\n",
    "    judge.append(m1_p1[i].tolist())\n",
    "    judge.append(m3_p1[i].tolist())\n",
    "    judge.append(m4_p1[i].tolist())\n",
    "    judge.append(m5_p1[i].tolist())\n",
    "    judge.append(m6_p1[i].tolist())    \n",
    "    maxlabel = max(judge,key=judge.count)\n",
    "    final_result.append(maxlabel)"
   ]
  },
  {
   "cell_type": "code",
   "execution_count": 23,
   "id": "9fb3fe47",
   "metadata": {},
   "outputs": [
    {
     "name": "stdout",
     "output_type": "stream",
     "text": [
      "0.8679\n"
     ]
    }
   ],
   "source": [
    "final_result = torch.tensor(final_result)\n",
    "Acc11 = []\n",
    "error1 = final_result - test_target_set\n",
    "\n",
    "for item in error1:\n",
    "    if item == 0:\n",
    "        Acc11.append(1)\n",
    "        \n",
    "print(sum(Acc11)/10000)"
   ]
  },
  {
   "cell_type": "code",
   "execution_count": 24,
   "id": "66929892",
   "metadata": {},
   "outputs": [
    {
     "name": "stdout",
     "output_type": "stream",
     "text": [
      "{6: 87, 5: 292, 3: 135, 9: 175, 4: 95, 2: 163, 1: 36, 7: 113, 8: 185, 0: 40}\n"
     ]
    }
   ],
   "source": [
    "HashMap = {}\n",
    "xxx = test_target_set.tolist()\n",
    "for i in range(10000):\n",
    "    if error1[i]!=0:\n",
    "        if xxx[i] not in HashMap:\n",
    "            HashMap[xxx[i]] = 1\n",
    "        else:\n",
    "            HashMap[xxx[i]] += 1\n",
    "print(HashMap)"
   ]
  },
  {
   "cell_type": "code",
   "execution_count": 25,
   "id": "308b6c71",
   "metadata": {},
   "outputs": [
    {
     "name": "stdout",
     "output_type": "stream",
     "text": [
      "{7: 1028, 2: 1032, 1: 1135, 0: 980, 4: 982, 9: 1009, 5: 892, 6: 958, 3: 1010, 8: 974}\n"
     ]
    }
   ],
   "source": [
    "Number = {}\n",
    "\n",
    "for i in range(10000):\n",
    "    if xxx[i] not in Number:\n",
    "        Number[xxx[i]] = 1\n",
    "    else:\n",
    "        Number[xxx[i]] += 1\n",
    "        \n",
    "print(Number)"
   ]
  },
  {
   "cell_type": "code",
   "execution_count": 26,
   "id": "8ebf6b72",
   "metadata": {},
   "outputs": [
    {
     "name": "stdout",
     "output_type": "stream",
     "text": [
      "6:87,0.9091858037578289\n",
      "5:292,0.6726457399103138\n",
      "3:135,0.8663366336633663\n",
      "9:175,0.8265609514370664\n",
      "4:95,0.9032586558044806\n",
      "2:163,0.8420542635658914\n",
      "1:36,0.9682819383259912\n",
      "7:113,0.8900778210116731\n",
      "8:185,0.8100616016427105\n",
      "0:40,0.9591836734693877\n",
      "1321\n"
     ]
    }
   ],
   "source": [
    "Sum = 0\n",
    "for key in HashMap:\n",
    "    print('%s:%s,%s'%(key,HashMap[key], 1-(HashMap[key]/ Number[key])))\n",
    "    Sum += HashMap[key]\n",
    "    \n",
    "print(Sum)"
   ]
  },
  {
   "cell_type": "markdown",
   "id": "5edd2823",
   "metadata": {},
   "source": [
    "### Single layer with 150 hidden nodes"
   ]
  },
  {
   "cell_type": "code",
   "execution_count": 27,
   "id": "b086f09d",
   "metadata": {},
   "outputs": [],
   "source": [
    "def for_150_Chromosome_to_Weights_Bias(chromosome):\n",
    "\n",
    "    W_1 = chromosome[0:13050]\n",
    "#     print('WWW', W_1.reshape(784,30).shape)\n",
    "    W_1 = np.array(W_1, dtype='float32')\n",
    "    W_1 = torch.from_numpy(W_1)\n",
    "    W_1 = W_1.view(87, 150)\n",
    "    \n",
    "    b_1 = chromosome[13050:13200]\n",
    "#     print('WWW', W_1.reshape(784,30).shape)\n",
    "    b_1 = np.array(b_1, dtype='float32')\n",
    "    b_1 = torch.from_numpy(b_1)\n",
    "    b_1 = b_1.view(150)\n",
    "    \n",
    "    W_2 = chromosome[13200:14700]\n",
    "    W_2 = np.array(W_2, dtype='float32')\n",
    "    W_2 = torch.from_numpy(W_2)\n",
    "    W_2 = W_2.view(150, 10)\n",
    "    \n",
    "    b_2 = chromosome[14700:14710]\n",
    "    b_2 = np.array(b_2, dtype='float32')\n",
    "    b_2 = torch.from_numpy(b_2)\n",
    "    b_2 = b_2.view(10)\n",
    "    \n",
    "    return W_1, b_1, W_2, b_2\n",
    "\n",
    "def for_150_Getresult(best_weights):\n",
    "#     print('------ Test Start -----')\n",
    "    \n",
    "    Acc1 = []\n",
    "    \n",
    "    W_1, b_1, W_2, b_2 = for_150_Chromosome_to_Weights_Bias(best_weights)\n",
    "\n",
    "\n",
    "    prediction1 = NN(test_set, W_1, b_1, W_2, b_2)\n",
    "#     error1 = prediction1 - test_target_set\n",
    "\n",
    "    return prediction1"
   ]
  },
  {
   "cell_type": "code",
   "execution_count": 28,
   "id": "921054a3",
   "metadata": {},
   "outputs": [],
   "source": [
    "df1 =  pd.read_table(\"./One-150/1.txt\", sep='|', header=None)\n",
    "df1 = df1[2]\n",
    "df2 =  pd.read_table(\"./One-150/2.txt\", sep='|', header=None)\n",
    "df2 = df2[2]\n",
    "df3 =  pd.read_table(\"./One-150/3.txt\", sep='|', header=None)\n",
    "df3 = df3[2]\n",
    "df4 =  pd.read_table(\"./One-150/4.txt\", sep='|', header=None)\n",
    "df4 = df4[2]\n",
    "df5 =  pd.read_table(\"./One-150/5.txt\", sep='|', header=None)\n",
    "df5 = df5[2]\n",
    "df6 =  pd.read_table(\"./One-150/6.txt\", sep='|', header=None)\n",
    "df6 = df6[2]"
   ]
  },
  {
   "cell_type": "code",
   "execution_count": 29,
   "id": "2230c171",
   "metadata": {},
   "outputs": [
    {
     "data": {
      "image/png": "[encoded data removed]",
      "text/plain": [
       "<Figure size 432x288 with 1 Axes>"
      ]
     },
     "metadata": {
      "needs_background": "light"
     },
     "output_type": "display_data"
    }
   ],
   "source": [
    "\n",
    "plt.plot(range(1,501),list(df1), label = 'model1')\n",
    "plt.plot(range(1,501),list(df2), label = 'model2')\n",
    "plt.plot(range(1,501),list(df3), label = 'model3')\n",
    "plt.plot(range(1,501),list(df4), label = 'model4')\n",
    "plt.plot(range(1,501),list(df5), label = 'model5')\n",
    "plt.plot(range(1,501),list(df6), label = 'model6')\n",
    "plt.legend()\n",
    "plt.title('The converge curves of each model')\n",
    "plt.savefig('singlewith150.png', dpi=600)\n",
    "plt.show()"
   ]
  },
  {
   "cell_type": "code",
   "execution_count": 30,
   "id": "ecc7564d",
   "metadata": {},
   "outputs": [],
   "source": [
    "w1 = pd.read_csv('./One-150/1.csv')\n",
    "w2 = pd.read_csv('./One-150/2.csv')\n",
    "w3 = pd.read_csv('./One-150/3.csv')\n",
    "w4 = pd.read_csv('./One-150/4.csv')\n",
    "w5 = pd.read_csv('./One-150/5.csv')\n",
    "w6 = pd.read_csv('./One-150/6.csv')\n",
    "w1 = np.array(w1['0'])\n",
    "w2 = np.array(w2['0'])\n",
    "w3 = np.array(w3['0'])\n",
    "w4 = np.array(w4['0'])\n",
    "w5 = np.array(w5['0'])\n",
    "w6 = np.array(w6['0'])"
   ]
  },
  {
   "cell_type": "code",
   "execution_count": 31,
   "id": "8188257f",
   "metadata": {},
   "outputs": [],
   "source": [
    "\n",
    "m1_p = for_150_Getresult(w1)\n",
    "m2_p = for_150_Getresult(w2)\n",
    "m3_p = for_150_Getresult(w3)\n",
    "m4_p = for_150_Getresult(w4)\n",
    "m5_p = for_150_Getresult(w5)\n",
    "m6_p = for_150_Getresult(w6)"
   ]
  },
  {
   "cell_type": "code",
   "execution_count": 32,
   "id": "3870fe7b",
   "metadata": {},
   "outputs": [],
   "source": [
    "final_result = []\n",
    "\n",
    "for i in range(len(m1_p)):\n",
    "    judge = []\n",
    "    judge.append(m2_p[i].tolist())\n",
    "    judge.append(m1_p[i].tolist())\n",
    "    judge.append(m3_p[i].tolist())\n",
    "    judge.append(m4_p[i].tolist())\n",
    "    judge.append(m5_p[i].tolist())\n",
    "    judge.append(m6_p[i].tolist())    \n",
    "    maxlabel = max(judge,key=judge.count)\n",
    "    final_result.append(maxlabel)"
   ]
  },
  {
   "cell_type": "code",
   "execution_count": 33,
   "id": "7c7daa01",
   "metadata": {},
   "outputs": [
    {
     "name": "stdout",
     "output_type": "stream",
     "text": [
      "0.7964\n"
     ]
    }
   ],
   "source": [
    "final_result = torch.tensor(final_result)\n",
    "Acc11 = []\n",
    "error1 = final_result - test_target_set\n",
    "\n",
    "for item in error1:\n",
    "    if item == 0:\n",
    "        Acc11.append(1)\n",
    "        \n",
    "print(sum(Acc11)/10000)"
   ]
  },
  {
   "cell_type": "markdown",
   "id": "0ac24c70",
   "metadata": {},
   "source": [
    "### Two hidden layers"
   ]
  },
  {
   "cell_type": "code",
   "execution_count": 34,
   "id": "e167e50a",
   "metadata": {},
   "outputs": [],
   "source": [
    "def twoNN(X, W_1, b_1, W_2, b_2, W_3, b_3):\n",
    "    V1 = torch.mm(X, W_1) + b_1\n",
    "    Y1 = F.relu(V1)\n",
    "    V2 = torch.mm(Y1, W_2) + b_2\n",
    "    Y2 = F.relu(V2)\n",
    "    V3 = torch.mm(Y2, W_3) + b_3\n",
    "\n",
    "    Y = torch.argmax(F.softmax(V3, dim=1), dim = 1)\n",
    "    \n",
    "    return Y\n",
    "\n",
    "def twoChromosome_to_Weights_Bias(chromosome):\n",
    "\n",
    "    W_1 = chromosome[0:4350]\n",
    "#     print('WWW', W_1.reshape(784,30).shape)\n",
    "    W_1 = np.array(W_1, dtype='float32')\n",
    "    W_1 = torch.from_numpy(W_1)\n",
    "    W_1 = W_1.view(87, 50)\n",
    "    \n",
    "    b_1 = chromosome[4350:4400]\n",
    "#     print('WWW', W_1.reshape(784,30).shape)\n",
    "    b_1 = np.array(b_1, dtype='float32')\n",
    "    b_1 = torch.from_numpy(b_1)\n",
    "    b_1 = b_1.view(50)\n",
    "    \n",
    "    W_2 = chromosome[4400:6900]\n",
    "    W_2 = np.array(W_2, dtype='float32')\n",
    "    W_2 = torch.from_numpy(W_2)\n",
    "    W_2 = W_2.view(50, 50)\n",
    "    \n",
    "    b_2 = chromosome[6900:6950]\n",
    "    b_2 = np.array(b_2, dtype='float32')\n",
    "    b_2 = torch.from_numpy(b_2)\n",
    "    b_2 = b_2.view(50)\n",
    "\n",
    "    W_3 = chromosome[6950:7450]\n",
    "    W_3 = np.array(W_3, dtype='float32')\n",
    "    W_3 = torch.from_numpy(W_3)\n",
    "    W_3 = W_3.view(50, 10)\n",
    "    \n",
    "    b_3 = chromosome[7450:]\n",
    "    b_3 = np.array(b_3, dtype='float32')\n",
    "    b_3 = torch.from_numpy(b_3)\n",
    "    b_3 = b_3.view(10)\n",
    "    \n",
    "    return W_1, b_1, W_2, b_2, W_3, b_3\n",
    "\n",
    "def twoGetresult(best_weights):\n",
    "    \n",
    "    W_1, b_1, W_2, b_2, W_3, b_3 = twoChromosome_to_Weights_Bias(best_weights)\n",
    "\n",
    "\n",
    "    prediction1 = twoNN(test_set, W_1, b_1, W_2, b_2, W_3, b_3)\n",
    "    \n",
    "    return prediction1"
   ]
  },
  {
   "cell_type": "code",
   "execution_count": 35,
   "id": "45644a76",
   "metadata": {},
   "outputs": [],
   "source": [
    "df1 =  pd.read_table(\"./Two/2-1.txt\", sep='|', header=None)\n",
    "df1 = df1[2]\n",
    "df2 =  pd.read_table(\"./Two/2-2.txt\", sep='|', header=None)\n",
    "df2 = df2[2]\n",
    "df3 =  pd.read_table(\"./Two/2-3.txt\", sep='|', header=None)\n",
    "df3 = df3[2]\n",
    "df4 =  pd.read_table(\"./Two/2-4.txt\", sep='|', header=None)\n",
    "df4 = df4[2]\n",
    "df5 =  pd.read_table(\"./Two/2-5.txt\", sep='|', header=None)\n",
    "df5 = df5[2]\n",
    "df6 =  pd.read_table(\"./Two/2-6.txt\", sep='|', header=None)\n",
    "df6 = df6[2]"
   ]
  },
  {
   "cell_type": "code",
   "execution_count": 36,
   "id": "1e64bc60",
   "metadata": {},
   "outputs": [
    {
     "data": {
      "image/png": "[encoded data removed]",
      "text/plain": [
       "<Figure size 432x288 with 1 Axes>"
      ]
     },
     "metadata": {
      "needs_background": "light"
     },
     "output_type": "display_data"
    }
   ],
   "source": [
    "plt.plot(range(1,501),list(df1), label = 'model1')\n",
    "plt.plot(range(1,501),list(df2), label = 'model2')\n",
    "plt.plot(range(1,501),list(df3), label = 'model3')\n",
    "plt.plot(range(1,501),list(df4), label = 'model4')\n",
    "plt.plot(range(1,501),list(df5), label = 'model5')\n",
    "plt.plot(range(1,501),list(df6), label = 'model6')\n",
    "plt.legend()\n",
    "plt.title('The converge curves of each model')\n",
    "plt.savefig('Twolayers.png', dpi=600)\n",
    "plt.show()"
   ]
  },
  {
   "cell_type": "code",
   "execution_count": 37,
   "id": "dcef31e6",
   "metadata": {},
   "outputs": [],
   "source": [
    "w1 = pd.read_csv(\"./Two/2-1.csv\")\n",
    "w2 = pd.read_csv(\"./Two/2-2.csv\")\n",
    "w3 = pd.read_csv(\"./Two/2-3.csv\")\n",
    "w4 = pd.read_csv(\"./Two/2-4.csv\")\n",
    "w5 = pd.read_csv(\"./Two/2-5.csv\")\n",
    "w6 = pd.read_csv(\"./Two/2-6.csv\")\n",
    "w1 = np.array(w1['0'])\n",
    "w2 = np.array(w2['0'])\n",
    "w3 = np.array(w3['0'])\n",
    "w4 = np.array(w4['0'])\n",
    "w5 = np.array(w5['0'])\n",
    "w6 = np.array(w6['0'])"
   ]
  },
  {
   "cell_type": "code",
   "execution_count": 38,
   "id": "223d8499",
   "metadata": {},
   "outputs": [],
   "source": [
    "m1_p = twoGetresult(w1)\n",
    "m2_p = twoGetresult(w2)\n",
    "m3_p = twoGetresult(w3)\n",
    "m4_p = twoGetresult(w4)\n",
    "m5_p = twoGetresult(w5)\n",
    "m6_p = twoGetresult(w6)"
   ]
  },
  {
   "cell_type": "code",
   "execution_count": 39,
   "id": "345df073",
   "metadata": {},
   "outputs": [],
   "source": [
    "final_result = []\n",
    "\n",
    "for i in range(len(m1_p)):\n",
    "    judge = []\n",
    "    judge.append(m2_p[i].tolist())\n",
    "    judge.append(m1_p[i].tolist())\n",
    "    judge.append(m3_p[i].tolist())\n",
    "    judge.append(m4_p[i].tolist())\n",
    "    judge.append(m5_p[i].tolist())\n",
    "    judge.append(m6_p[i].tolist())    \n",
    "    maxlabel = max(judge,key=judge.count)\n",
    "    final_result.append(maxlabel)"
   ]
  },
  {
   "cell_type": "code",
   "execution_count": 40,
   "id": "f708c7a7",
   "metadata": {},
   "outputs": [
    {
     "name": "stdout",
     "output_type": "stream",
     "text": [
      "0.7673\n"
     ]
    }
   ],
   "source": [
    "final_result = torch.tensor(final_result)\n",
    "Acc11 = []\n",
    "error1 = final_result - test_target_set\n",
    "\n",
    "for item in error1:\n",
    "    if item == 0:\n",
    "        Acc11.append(1)\n",
    "        \n",
    "print(sum(Acc11)/10000)"
   ]
  },
  {
   "cell_type": "markdown",
   "id": "f21946eb",
   "metadata": {},
   "source": [
    "### GENE in [-100, 100]"
   ]
  },
  {
   "cell_type": "code",
   "execution_count": 41,
   "id": "06232f41",
   "metadata": {},
   "outputs": [],
   "source": [
    "CT = pd.read_table(\"./One-GA-100/GA-100.txt\", sep='|', header=None)"
   ]
  },
  {
   "cell_type": "code",
   "execution_count": 42,
   "id": "a3ee699a",
   "metadata": {},
   "outputs": [],
   "source": [
    "CT = CT[2]"
   ]
  },
  {
   "cell_type": "code",
   "execution_count": 43,
   "id": "30adcea2",
   "metadata": {},
   "outputs": [],
   "source": [
    "df1 = CT[:500]\n",
    "df2 = CT[500:1000]\n",
    "df3 = CT[1000:1500]\n",
    "df4 = CT[1500:2000]\n",
    "df5 = CT[2000:2500]\n",
    "df6 = CT[2500:]"
   ]
  },
  {
   "cell_type": "code",
   "execution_count": 44,
   "id": "aea1be77",
   "metadata": {},
   "outputs": [
    {
     "data": {
      "image/png": "[encoded data removed]",
      "text/plain": [
       "<Figure size 432x288 with 1 Axes>"
      ]
     },
     "metadata": {
      "needs_background": "light"
     },
     "output_type": "display_data"
    }
   ],
   "source": [
    "plt.plot(range(1,501),list(df1), label = 'model1')\n",
    "plt.plot(range(1,501),list(df2), label = 'model2')\n",
    "plt.plot(range(1,501),list(df3), label = 'model3')\n",
    "plt.plot(range(1,501),list(df4), label = 'model4')\n",
    "plt.plot(range(1,501),list(df5), label = 'model5')\n",
    "plt.plot(range(1,501),list(df6), label = 'model6')\n",
    "plt.legend()\n",
    "plt.title('The converge curves of each model')\n",
    "plt.savefig('C2-100', dpi=600)\n",
    "plt.show()"
   ]
  },
  {
   "cell_type": "code",
   "execution_count": 45,
   "id": "97298c05",
   "metadata": {},
   "outputs": [],
   "source": [
    "w1 = pd.read_csv(\"./One-GA-100/0-10000.csv\")\n",
    "w2 = pd.read_csv(\"./One-GA-100/10000-20000.csv\")\n",
    "w3 = pd.read_csv(\"./One-GA-100/20000-30000.csv\")\n",
    "w4 = pd.read_csv(\"./One-GA-100/30000-40000.csv\")\n",
    "w5 = pd.read_csv(\"./One-GA-100/40000-50000.csv\")\n",
    "w6 = pd.read_csv(\"./One-GA-100/50000-60000.csv\")\n",
    "w1 = np.array(w1['0'])\n",
    "w2 = np.array(w2['0'])\n",
    "w3 = np.array(w3['0'])\n",
    "w4 = np.array(w4['0'])\n",
    "w5 = np.array(w5['0'])\n",
    "w6 = np.array(w6['0'])"
   ]
  },
  {
   "cell_type": "code",
   "execution_count": 46,
   "id": "c8ee4d09",
   "metadata": {},
   "outputs": [],
   "source": [
    "m1_p2 = Getresult(w1)\n",
    "m2_p2 = Getresult(w2)\n",
    "m3_p2 = Getresult(w3)\n",
    "m4_p2 = Getresult(w4)\n",
    "m5_p2 = Getresult(w5)\n",
    "m6_p2 = Getresult(w6)"
   ]
  },
  {
   "cell_type": "code",
   "execution_count": 47,
   "id": "217c4d9f",
   "metadata": {},
   "outputs": [],
   "source": [
    "final_result = []\n",
    "\n",
    "for i in range(len(m1_p)):\n",
    "    judge = []\n",
    "    judge.append(m2_p2[i].tolist())\n",
    "    judge.append(m1_p2[i].tolist())\n",
    "    judge.append(m3_p2[i].tolist())\n",
    "    judge.append(m4_p2[i].tolist())\n",
    "    judge.append(m5_p2[i].tolist())\n",
    "    judge.append(m6_p2[i].tolist())    \n",
    "    maxlabel = max(judge,key=judge.count)\n",
    "    final_result.append(maxlabel)"
   ]
  },
  {
   "cell_type": "code",
   "execution_count": 48,
   "id": "aef29458",
   "metadata": {},
   "outputs": [
    {
     "name": "stdout",
     "output_type": "stream",
     "text": [
      "0.8412\n"
     ]
    }
   ],
   "source": [
    "final_result = torch.tensor(final_result)\n",
    "Acc11 = []\n",
    "error1 = final_result - test_target_set\n",
    "\n",
    "for item in error1:\n",
    "    if item == 0:\n",
    "        Acc11.append(1)\n",
    "        \n",
    "print(sum(Acc11)/10000)"
   ]
  },
  {
   "cell_type": "markdown",
   "id": "7007eb91",
   "metadata": {},
   "source": [
    "### Combine this model with our original model."
   ]
  },
  {
   "cell_type": "code",
   "execution_count": 49,
   "id": "c371a1e3",
   "metadata": {},
   "outputs": [],
   "source": [
    "final_result = []\n",
    "\n",
    "for i in range(len(m1_p)):\n",
    "    judge = []\n",
    "    judge.append(m2_p1[i].tolist())\n",
    "    judge.append(m1_p1[i].tolist())\n",
    "    judge.append(m3_p1[i].tolist())\n",
    "    judge.append(m4_p1[i].tolist())\n",
    "    judge.append(m5_p1[i].tolist())\n",
    "    judge.append(m6_p1[i].tolist()) \n",
    "    judge.append(m2_p2[i].tolist())\n",
    "    judge.append(m1_p2[i].tolist())\n",
    "    judge.append(m3_p2[i].tolist())\n",
    "    judge.append(m4_p2[i].tolist())\n",
    "    judge.append(m5_p2[i].tolist())\n",
    "    judge.append(m6_p2[i].tolist())    \n",
    "    maxlabel = max(judge,key=judge.count)\n",
    "    final_result.append(maxlabel)"
   ]
  },
  {
   "cell_type": "code",
   "execution_count": 50,
   "id": "5c4fac0b",
   "metadata": {},
   "outputs": [
    {
     "name": "stdout",
     "output_type": "stream",
     "text": [
      "0.8734\n"
     ]
    }
   ],
   "source": [
    "final_result = torch.tensor(final_result)\n",
    "Acc11 = []\n",
    "error1 = final_result - test_target_set\n",
    "\n",
    "for item in error1:\n",
    "    if item == 0:\n",
    "        Acc11.append(1)\n",
    "        \n",
    "print(sum(Acc11)/10000)"
   ]
  },
  {
   "cell_type": "markdown",
   "id": "96a385bb",
   "metadata": {},
   "source": [
    "### GENE in [- 5, 5]"
   ]
  },
  {
   "cell_type": "code",
   "execution_count": 51,
   "id": "623e3dbf",
   "metadata": {},
   "outputs": [],
   "source": [
    "CT = pd.read_table(\"./One-GA-5/one-5.txt\", sep='|', header=None)\n",
    "CT = CT[2]\n",
    "df1 = CT[:500]\n",
    "df2 = CT[500:1000]\n",
    "df3 = CT[1000:1500]\n",
    "df4 = CT[1500:2000]\n",
    "df5 = CT[2000:2500]\n",
    "df6 = CT[2500:]"
   ]
  },
  {
   "cell_type": "code",
   "execution_count": 52,
   "id": "297f068a",
   "metadata": {},
   "outputs": [
    {
     "data": {
      "image/png": "[encoded data removed]",
      "text/plain": [
       "<Figure size 432x288 with 1 Axes>"
      ]
     },
     "metadata": {
      "needs_background": "light"
     },
     "output_type": "display_data"
    }
   ],
   "source": [
    "plt.plot(range(1,501),list(df1), label = 'model1')\n",
    "plt.plot(range(1,501),list(df2), label = 'model2')\n",
    "plt.plot(range(1,501),list(df3), label = 'model3')\n",
    "plt.plot(range(1,501),list(df4), label = 'model4')\n",
    "plt.plot(range(1,501),list(df5), label = 'model5')\n",
    "plt.plot(range(1,501),list(df6), label = 'model6')\n",
    "plt.legend()\n",
    "plt.title('The converge curves of each model')\n",
    "plt.savefig('C2-5.png', dpi=600)\n",
    "plt.show()"
   ]
  },
  {
   "cell_type": "code",
   "execution_count": 53,
   "id": "c435a1a1",
   "metadata": {},
   "outputs": [],
   "source": [
    "w1 = pd.read_csv(\"./One-GA-5/0-10000.csv\")\n",
    "w2 = pd.read_csv(\"./One-GA-5/10000-20000.csv\")\n",
    "w3 = pd.read_csv(\"./One-GA-5/20000-30000.csv\")\n",
    "w4 = pd.read_csv(\"./One-GA-5/30000-40000.csv\")\n",
    "w5 = pd.read_csv(\"./One-GA-5/40000-50000.csv\")\n",
    "w6 = pd.read_csv(\"./One-GA-5/50000-60000.csv\")\n",
    "w1 = np.array(w1['0'])\n",
    "w2 = np.array(w2['0'])\n",
    "w3 = np.array(w3['0'])\n",
    "w4 = np.array(w4['0'])\n",
    "w5 = np.array(w5['0'])\n",
    "w6 = np.array(w6['0'])"
   ]
  },
  {
   "cell_type": "code",
   "execution_count": 54,
   "id": "8c78ad2b",
   "metadata": {},
   "outputs": [],
   "source": [
    "m1_p = Getresult(w1)\n",
    "m2_p = Getresult(w2)\n",
    "m3_p = Getresult(w3)\n",
    "m4_p = Getresult(w4)\n",
    "m5_p = Getresult(w5)\n",
    "m6_p = Getresult(w6)"
   ]
  },
  {
   "cell_type": "code",
   "execution_count": 55,
   "id": "97ec89af",
   "metadata": {},
   "outputs": [],
   "source": [
    "final_result = []\n",
    "\n",
    "for i in range(len(m1_p)):\n",
    "    judge = []\n",
    "    judge.append(m2_p[i].tolist())\n",
    "    judge.append(m1_p[i].tolist())\n",
    "    judge.append(m3_p[i].tolist())\n",
    "    judge.append(m4_p[i].tolist())\n",
    "    judge.append(m5_p[i].tolist())\n",
    "    judge.append(m6_p[i].tolist())    \n",
    "    maxlabel = max(judge,key=judge.count)\n",
    "    final_result.append(maxlabel)"
   ]
  },
  {
   "cell_type": "code",
   "execution_count": 56,
   "id": "1a885825",
   "metadata": {},
   "outputs": [
    {
     "name": "stdout",
     "output_type": "stream",
     "text": [
      "0.7742\n"
     ]
    }
   ],
   "source": [
    "final_result = torch.tensor(final_result)\n",
    "Acc11 = []\n",
    "error1 = final_result - test_target_set\n",
    "\n",
    "for item in error1:\n",
    "    if item == 0:\n",
    "        Acc11.append(1)\n",
    "        \n",
    "print(sum(Acc11)/10000)"
   ]
  },
  {
   "cell_type": "code",
   "execution_count": null,
   "id": "4261627c",
   "metadata": {},
   "outputs": [],
   "source": []
  },
  {
   "cell_type": "code",
   "execution_count": null,
   "id": "e524c101",
   "metadata": {},
   "outputs": [],
   "source": []
  },
  {
   "cell_type": "code",
   "execution_count": null,
   "id": "75158784",
   "metadata": {},
   "outputs": [],
   "source": []
  },
  {
   "cell_type": "code",
   "execution_count": null,
   "id": "74d97121",
   "metadata": {},
   "outputs": [],
   "source": []
  },
  {
   "cell_type": "code",
   "execution_count": null,
   "id": "797d4e3b",
   "metadata": {},
   "outputs": [],
   "source": []
  },
  {
   "cell_type": "code",
   "execution_count": null,
   "id": "6ee7ec3e",
   "metadata": {},
   "outputs": [],
   "source": []
  },
  {
   "cell_type": "code",
   "execution_count": null,
   "id": "711814de",
   "metadata": {},
   "outputs": [],
   "source": []
  }
 ],
 "metadata": {
  "kernelspec": {
   "display_name": "Python 3",
   "language": "python",
   "name": "python3"
  },
  "language_info": {
   "codemirror_mode": {
    "name": "ipython",
    "version": 3
   },
   "file_extension": ".py",
   "mimetype": "text/x-python",
   "name": "python",
   "nbconvert_exporter": "python",
   "pygments_lexer": "ipython3",
   "version": "3.8.8"
  }
 },
 "nbformat": 4,
 "nbformat_minor": 5
}
